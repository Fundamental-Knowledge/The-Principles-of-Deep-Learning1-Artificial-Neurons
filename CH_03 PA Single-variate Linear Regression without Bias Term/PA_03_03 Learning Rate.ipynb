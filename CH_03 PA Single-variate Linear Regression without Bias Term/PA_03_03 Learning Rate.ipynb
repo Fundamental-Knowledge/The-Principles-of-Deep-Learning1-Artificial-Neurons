{
 "cells": [
  {
   "cell_type": "markdown",
   "metadata": {},
   "source": [
    "# Chapter.3 Single-variate Linear Regression without Bias Term\n",
    "\n",
    "## Programming Assignment.3-03 Learning Rate\n",
    "\n",
    "PA 03-03에서는 learning rate이 학습에 미치는 영향을 다각도로 살펴봅니다.  \n",
    "learning rate은 deep learning에서 가장 중요한 hyper-parameter 중 하나이기 때문에, 변수가 하나밖에 없는 single-variate linear regression without bias term에서 learning rate이 learnable parameter 학습에 미치는 영향을 충분히 분석하고 넘어가셨으면 합니다.\n",
    "\n",
    "PA 03-03은 learning rate에 대한 분석을 하기 위해 다음과 같은 step들로 이루어져있습니다.\n",
    "\n",
    "<ul>\n",
    "    <li> Step.1 Learning Rate Comparison1 </li>\n",
    "    Learning rate이 충분히 작을 때 learning rate의 변화가 학습에 미치는 영향을 분석합니다.\n",
    "    <li> Step.2 Learning Rate Comparison2 </li>\n",
    "    Learning rate이 커졌을 때 불안정한 학습이 일어남을 확인하고, learning rate의 변화가 학습에 미치는 영향을 분석합니다.\n",
    "    <li> Step.3 Learning Rate Comparison for Data Samples </li>\n",
    "    같은 learning rate에 대해 data sample이 바뀌면 learning rate이 바뀌는 것과 비슷한 현상이 일어나는 것을 확인합니다.\n",
    "    <li> Step.4 Parameter Update with Several Learning Rates </li>\n",
    "    Step.3에서 비교한 data sample들을 모두 이용하여 학습을 진행할 때, learning rate이 바뀜에 따라 학습이 어떻게 일어나는지 확인합니다.\n",
    "</ul>\n",
    "\n",
    "먼저 다음의 셀을 실행하여 학습에 필요한 libary들을 import 해주세요."
   ]
  },
  {
   "cell_type": "code",
   "execution_count": 12,
   "metadata": {},
   "outputs": [],
   "source": [
    "import numpy as np\n",
    "import matplotlib.pyplot as plt\n",
    "import matplotlib.cm as cm\n",
    "\n",
    "plt.style.use('seaborn')\n",
    "np.random.seed(0)"
   ]
  },
  {
   "cell_type": "markdown",
   "metadata": {},
   "source": [
    "***\n",
    "**Programming**  \n",
    "PA_03_02에서 만들었던 get_loss_funct와 trainer를 복사/붙여넣기 해주고 실행해줍니다."
   ]
  },
  {
   "cell_type": "code",
   "execution_count": 65,
   "metadata": {},
   "outputs": [],
   "source": [
    "##### Start Your Code(get_loss_funct Function) #####\n",
    "\n",
    "##### End Your Code(get_loss_funct Function) #####\n",
    "\n",
    "\n",
    "\n",
    "##### Start Your Code(trainer Function) #####\n",
    "\n",
    "##### End Your Code(trainer Function) #####"
   ]
  },
  {
   "cell_type": "markdown",
   "metadata": {},
   "source": [
    "### 보충실습: for loop + axes \n",
    "Matplotlib의 figure 안에 mxn의 axes를 그릴 때 axes에 대한 indexin이 불편하다는 문제점이 있습니다.  \n",
    "이는 다음과 같이 axes.flat과 built-in function enumerate()을 이용하면 보다 쉽게 axes들을 사용할 수 있습니다."
   ]
  },
  {
   "cell_type": "code",
   "execution_count": 21,
   "metadata": {},
   "outputs": [
    {
     "name": "stdout",
     "output_type": "stream",
     "text": [
      "0 AxesSubplot(0.125,0.551739;0.352273x0.328261)\n",
      "1 AxesSubplot(0.547727,0.551739;0.352273x0.328261)\n",
      "2 AxesSubplot(0.125,0.125;0.352273x0.328261)\n",
      "3 AxesSubplot(0.547727,0.125;0.352273x0.328261)\n"
     ]
    },
    {
     "data": {
      "image/png": "[encoded data removed]",
      "text/plain": [
       "<Figure size 576x396 with 4 Axes>"
      ]
     },
     "metadata": {},
     "output_type": "display_data"
    }
   ],
   "source": [
    "fig, axes = plt.subplots(2,2)\n",
    "fig.subplots_adjust(hspace = 0.3) # 이 line은 신경쓰지 않아도 괜찮습니다.\n",
    "for ax_idx, ax in enumerate(axes.flat):\n",
    "    print(ax_idx, ax)\n",
    "    ax.set_title(\"Axes\" + str(ax_idx), fontsize = 15)"
   ]
  },
  {
   "cell_type": "markdown",
   "metadata": {},
   "source": [
    "***\n",
    "## Step.1 Learning Rate Comparison1\n",
    "\n",
    "learning rate이 충분히 작을 떄는 learning rate이 커짐에 따라 target theta $\\theta^{*}$에 접근하는 속도가 빨라집니다.  \n",
    "이때는 적은 iteration만에 원하는 target function에 접근할 수 있기 때문에 learning rate을 키우는 것이 바람직합니다.\n",
    "\n",
    "아래 실습에서는 하나의 data sample에 대하여 learning rate을 변화시킬 때 $\\theta$이 어떻게 학습되는지 확인합니다.  \n",
    "이때 효율적인 비교를 위해 2x2 axes를 가지는 figure에 차례대로 learning rate을 변화시키며 plotting 해줍니다.\n",
    "\n",
    "***\n",
    "**Programming**  \n",
    "get_loss_function과 trainer를 이용하여 다음의 상황에서의 $\\theta$ 변화를 확인하세요.\n",
    "- $(x^{(1)},y^{(1)}) = (1,3)$\n",
    "- learning rate = 0.01, 0.05, 0.1, 0.3\n",
    "- iterations = 20\n"
   ]
  },
  {
   "cell_type": "code",
   "execution_count": null,
   "metadata": {},
   "outputs": [],
   "source": [
    "##### Start Your Code(Learning Preparation) #####\n",
    "x1 = \n",
    "y1 = \n",
    "lr_list = \n",
    "iterations = \n",
    "##### Start Your Code(Learning Preparation) #####\n",
    "\n",
    "fig, axes = plt.subplots(2, 2, figsize = (10,10))\n",
    "fig.subplots_adjust(hspace = 0.4)\n",
    "for ax_idx, ax in enumerate(axes.flat):\n",
    "    ##### Start Your Code(Loss Funtion and Training) #####\n",
    "\n",
    "    \n",
    "    ##### End Your Code(Loss Funtion and Training) #####\n",
    "    \n",
    "    ax.plot(th_list, loss_list,\n",
    "            marker = 'o',\n",
    "            markersize = 8,\n",
    "            color = 'r')\n",
    "    ax.set_title('Learning Rate: ' + str(lr_list[ax_idx]),\n",
    "                fontsize = 30)"
   ]
  },
  {
   "cell_type": "markdown",
   "metadata": {},
   "source": [
    "**Expected Output**\n",
    "<img src='./imgs/3_03_01.png' width = 400>"
   ]
  },
  {
   "cell_type": "markdown",
   "metadata": {},
   "source": [
    "위 학습에서 사용된 코드를 compare_4_lr 함수로 만들어봅니다.  \n",
    "이 함수는 lr_list와 x,y를 받아 4개의 axes에 $\\theta$의 변화를 시각화해줍니다.  \n",
    "또한 뒤의 학습을 위해 axes라는 parameter를 사용하여 어떤 axes에 시각화를 할지도 설정해줍니다.\n",
    "\n",
    "***\n",
    "**Programming**  \n",
    "위 코드를 compare_4_lr 함수로 만드세요.  \n"
   ]
  },
  {
   "cell_type": "code",
   "execution_count": 36,
   "metadata": {},
   "outputs": [],
   "source": [
    "def compare_4_lr(lr_list, x, y, axes):  \n",
    "    ##### Start Your Code(compare_4_lr Functionalization) #####\n",
    "    \n",
    "    \n",
    "    ##### End Your Code(compare_4_lr Functionalization) #####"
   ]
  },
  {
   "cell_type": "markdown",
   "metadata": {},
   "source": [
    "***\n",
    "**Programming**  \n",
    "위에서 만든 compare_4_lr 함수를 사용하고 함수를 사용하기 전과 동일한 결과가 나오는지 확인하세요."
   ]
  },
  {
   "cell_type": "code",
   "execution_count": null,
   "metadata": {
    "scrolled": true
   },
   "outputs": [],
   "source": [
    "##### Start Your Code(Learning Preparation) #####\n",
    "x1 = \n",
    "y1 = \n",
    "lr_list = \n",
    "##### End Your Code(Learning Preparation) #####\n",
    "\n",
    "fig, axes = plt.subplots(2, 2, figsize = (10,10))\n",
    "\n",
    "##### Start Your Code(compare_4_lr Function) #####\n",
    "\n",
    "##### End Your Code(compare_4_lr Function) #####"
   ]
  },
  {
   "cell_type": "markdown",
   "metadata": {},
   "source": [
    "**Expected Output**\n",
    "<img src='./imgs/3_03_02.png' width = 400>"
   ]
  },
  {
   "cell_type": "markdown",
   "metadata": {},
   "source": [
    "***\n",
    "## Step.2 Learning Rate Comparison2\n",
    "\n",
    "이번에는 learning rate이 커짐에 따라 발생하는 문제점을 살펴봅니다.  \n",
    "\n",
    "Step.1에서는 충분히 작은 learning rate들인 0.01, 0.05, 0.1, 0.3을 사용하였지만,  \n",
    "Step.2에서는 learning rate이 0.6, 0.7, 0.8, 0.9일 때 학습이 어떻게 일어나는지 확인해봅니다.\n",
    "\n",
    "***\n",
    "**Programming**  \n",
    "위의 코드에서 lr_list의 원소들을 0.6, 0.7, 0.8, 0.9로 바꾼 뒤 결과를 확인하세요.  \n",
    "그리고 learning rate이 지나치게 커지는 것이 학습에 어떤 부정적인 영향을 미치는지 분석하세요."
   ]
  },
  {
   "cell_type": "code",
   "execution_count": null,
   "metadata": {},
   "outputs": [],
   "source": [
    "##### Start Your Code(Learning Preparation) #####\n",
    "x1 = \n",
    "y1 = \n",
    "lr_list = \n",
    "##### End Your Code(Learning Preparation) #####\n",
    "\n",
    "fig, axes = plt.subplots(2, 2, figsize = (10,10))\n",
    "##### Start Your Code(compare_4_lr Function) #####\n",
    "\n",
    "##### End Your Code(compare_4_lr Function) #####"
   ]
  },
  {
   "cell_type": "markdown",
   "metadata": {},
   "source": [
    "**Expected Output**\n",
    "<img src='./imgs/3_03_03.png' width = 400>"
   ]
  },
  {
   "cell_type": "markdown",
   "metadata": {},
   "source": [
    "***\n",
    "## Step.3 Learning Rate Comparison for Data Samples\n",
    "\n",
    "Step.3에서는 Step.1에서 사용된 lr_list를 이용하되, data sample을 바꿔봅니다.  \n",
    "이를 통해 같은 learning rate에 대해서도 data sample에 따라 학습이 일어나는 모습이 다름을 확인합니다.\n",
    "\n",
    "***\n",
    "**Programming**  \n",
    "위와 코드는 동일하지만, 다음의 조건에서 학습이 어떻게 진행되는지 확인하세요.  \n",
    "그리고 Step.1의 결과와 비교하고 차이점이 만들어지는 원인에 대해 분석하세요.  \n",
    "- $(x^{(2)},y^{(2)}) = (1.8,5.4)$\n",
    "- learning rate = 0.01, 0.05, 0.1, 0.3\n",
    "- iterations = 20\n"
   ]
  },
  {
   "cell_type": "code",
   "execution_count": null,
   "metadata": {},
   "outputs": [],
   "source": [
    "##### Start Your Code(Learning Preparation) #####\n",
    "x1 = \n",
    "y1 = \n",
    "lr_list = \n",
    "##### End Your Code(Learning Preparation) #####\n",
    "\n",
    "fig, axes = plt.subplots(2, 2, figsize = (10,10))\n",
    "##### Start Your Code(compare_4_lr Function) #####\n",
    "\n",
    "##### End Your Code(compare_4_lr Function) #####"
   ]
  },
  {
   "cell_type": "markdown",
   "metadata": {},
   "source": [
    "**Expected Output**\n",
    "<img src='./imgs/3_03_04.png' width = 400>"
   ]
  },
  {
   "cell_type": "markdown",
   "metadata": {},
   "source": [
    "위의 학습을 통해 data sample에 따라 learning rate이 증가하는 것과 비슷한 현상이 일어나는 것을 확인했습니다.\n",
    "\n",
    "다음은 여러가지의 data sample과 learning rate에 대해서의 학습을 비교해봅니다.  \n",
    "조건은 다음과 같습니다.  \n",
    "- $ \\{(x^{(1)},y^{(1)}), (x^{(2)},y^{(2)}), (x^{(3)},y^{(3)})\\} = \\{(0.5,1.5), (1,3), (1.7,5.1)\\} $\n",
    "- learning rate = 0.01, 0.05, 0.1, 0.3"
   ]
  },
  {
   "cell_type": "code",
   "execution_count": null,
   "metadata": {},
   "outputs": [],
   "source": [
    "##### Start Your Code(Learning Preparation) #####\n",
    "x_data = \n",
    "y_data = \n",
    "lr_list = \n",
    "##### End Your Code(Learning Preparation) #####\n",
    "\n",
    "fig, axes = plt.subplots(2, 2, figsize = (15,15))\n",
    "for data_idx, (x, y) in enumerate(zip(x_data, y_data)):\n",
    "    ##### Start Your Code(compare_4_lr Function) #####\n",
    "\n",
    "    ##### End Your Code(compare_4_lr Function) #####"
   ]
  },
  {
   "cell_type": "markdown",
   "metadata": {},
   "source": [
    "**Expected Output**\n",
    "<img src='./imgs/3_03_05.png' width = 400>"
   ]
  },
  {
   "cell_type": "markdown",
   "metadata": {},
   "source": [
    "***\n",
    "## Step.4 Parameter Update with Several Learning Rates\n",
    "\n",
    "Step.3까지는 하나의 data sample만 가지고 학습을 진행했습니다.  \n",
    "Step.4에서는 여러개의 data sample들을 가지고 있는 dataset에 대해 learning rate을 바꿔가며 학습을 시켜보고,  \n",
    "각 학습에서의 결과를 분석합니다.\n",
    "\n",
    "첫 번째 학습에서의 조건은 다음과 같습니다.\n",
    "- $ \\{(x^{(1)},y^{(1)}), (x^{(2)},y^{(2)}), (x^{(3)},y^{(3)})\\} = \\{(0.5,1.5), (1,3), (1.7,5.1)\\} $\n",
    "- learning rate = 0.01\n",
    "- initial theta = 0.1\n",
    "- epochs = 10"
   ]
  },
  {
   "cell_type": "code",
   "execution_count": null,
   "metadata": {},
   "outputs": [],
   "source": [
    "##### Start Your Code(Learning Preparation) #####\n",
    "x_data = \n",
    "y_data = \n",
    "data = np.hstack()\n",
    "\n",
    "th = \n",
    "lr = \n",
    "epochs = \n",
    "##### End Your Code(Learning Preparation) #####\n",
    "\n",
    "th_list = []\n",
    "loss_list = []\n",
    "    \n",
    "for epoch in range(epochs):\n",
    "    for x,y in data:\n",
    "        ##### Start Your Code(Loss Calculation) #####\n",
    "        pred = \n",
    "        loss = \n",
    "        ##### End Your Code(Loss Calculation) #####\n",
    "        \n",
    "        th_list.append(th)\n",
    "        loss_list.append(loss)\n",
    "        \n",
    "        ##### Start Your Code(Gradient Descent Method) #####\n",
    "        th = \n",
    "        ##### End Your Code(Gradient Descent Method) #####\n",
    "        \n",
    "fig, ax = plt.subplots(figsize = (20,10))\n",
    "ax.plot(th_list,\n",
    "        marker = 'o',\n",
    "        markersize = 10,\n",
    "        color = 'r')\n",
    "ax.tick_params(axis = 'both', labelsize = 20)"
   ]
  },
  {
   "cell_type": "markdown",
   "metadata": {},
   "source": [
    "**Expected Output**\n",
    "<img src='./imgs/3_03_06.png' width = 800>"
   ]
  },
  {
   "cell_type": "markdown",
   "metadata": {},
   "source": [
    "***\n",
    "**Programming**  \n",
    "위의 코드를 새로운 trainer 함수로 만들어봅니다.  \n",
    "이 함수는 dataset을 받아 th_list, loss_list를 시각화해줍니다.\n",
    "\n",
    "새로운 trainer 함수의 parameter는 다음과 같습니다.\n",
    "- data\n",
    "- lr\n",
    "- th\n",
    "- epochs\n"
   ]
  },
  {
   "cell_type": "code",
   "execution_count": 68,
   "metadata": {},
   "outputs": [],
   "source": [
    "def trainer(data, lr, th, epochs):\n",
    "    ##### Start Your Code(New trainer Functionalization) #####\n",
    "    \n",
    "    \n",
    "    ##### Start Your Code(New trainer Functionalization) #####"
   ]
  },
  {
   "cell_type": "markdown",
   "metadata": {},
   "source": [
    "***\n",
    "**Programing**  \n",
    "learning이 0.1일때 위의 trainer를 이용하여 학습 결과를 확인하고 learning이 0.01일때와 비교하세요."
   ]
  },
  {
   "cell_type": "code",
   "execution_count": null,
   "metadata": {
    "scrolled": false
   },
   "outputs": [],
   "source": [
    "##### Start Your Code(Learning Preparation) #####\n",
    "x_data = \n",
    "y_data = \n",
    "data = np.hstack( )\n",
    "\n",
    "th = \n",
    "lr = \n",
    "epochs = \n",
    "##### End Your Code(Learning Preparation) #####\n",
    "\n",
    "##### Start Your Code(trainer Function) #####\n",
    "\n",
    "##### End Your Code(trainer Function) #####"
   ]
  },
  {
   "cell_type": "markdown",
   "metadata": {},
   "source": [
    "**Expected Output**\n",
    "<img src='./imgs/3_03_07.png' width = 800>"
   ]
  },
  {
   "cell_type": "markdown",
   "metadata": {},
   "source": [
    "\n",
    "***\n",
    "**Programing**  \n",
    "learning이 0.6일때 위의 trainer를 이용하여 학습 결과를 확인하고 위의 결과들과 비교하세요."
   ]
  },
  {
   "cell_type": "code",
   "execution_count": null,
   "metadata": {
    "scrolled": false
   },
   "outputs": [],
   "source": [
    "##### Start Your Code(Learning Preparation) #####\n",
    "x_data = \n",
    "y_data = \n",
    "data = np.hstack( )\n",
    "\n",
    "th = \n",
    "lr = \n",
    "epochs = \n",
    "##### End Your Code(Learning Preparation) #####\n",
    "\n",
    "##### Start Your Code(trainer Function) #####\n",
    "\n",
    "##### End Your Code(trainer Function) #####"
   ]
  },
  {
   "cell_type": "markdown",
   "metadata": {},
   "source": [
    "**Expected Output**\n",
    "<img src='./imgs/3_03_08.png' width = 800>"
   ]
  },
  {
   "cell_type": "markdown",
   "metadata": {},
   "source": [
    "***\n",
    "**Programing**  \n",
    "learning이 1.0일때 위의 trainer를 이용하여 학습 결과를 확인하고 위의 결과들과 비교하세요."
   ]
  },
  {
   "cell_type": "code",
   "execution_count": null,
   "metadata": {},
   "outputs": [],
   "source": [
    "##### Start Your Code(Learning Preparation) #####\n",
    "x_data = \n",
    "y_data = \n",
    "data = np.hstack( )\n",
    "\n",
    "th = \n",
    "lr = \n",
    "epochs = \n",
    "##### End Your Code(Learning Preparation) #####\n",
    "\n",
    "##### Start Your Code(trainer Function) #####\n",
    "\n",
    "##### End Your Code(trainer Function) #####"
   ]
  },
  {
   "cell_type": "markdown",
   "metadata": {},
   "source": [
    "**Expected Output**\n",
    "<img src='./imgs/3_03_09.png' width = 800>"
   ]
  }
 ],
 "metadata": {
  "kernelspec": {
   "display_name": "Python 3",
   "language": "python",
   "name": "python3"
  },
  "language_info": {
   "codemirror_mode": {
    "name": "ipython",
    "version": 3
   },
   "file_extension": ".py",
   "mimetype": "text/x-python",
   "name": "python",
   "nbconvert_exporter": "python",
   "pygments_lexer": "ipython3",
   "version": "3.7.7"
  }
 },
 "nbformat": 4,
 "nbformat_minor": 4
}
